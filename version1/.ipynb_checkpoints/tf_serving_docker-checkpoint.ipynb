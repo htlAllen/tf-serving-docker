{
 "cells": [
  {
   "cell_type": "code",
   "execution_count": 1,
   "metadata": {},
   "outputs": [],
   "source": [
    "import tensorflow as tf\n",
    "import os\n",
    "import json\n",
    "import requests"
   ]
  },
  {
   "cell_type": "code",
   "execution_count": 2,
   "metadata": {},
   "outputs": [],
   "source": [
    "# 建立一个非常简单的模型\n",
    "x = tf.placeholder(name='input',shape=[], dtype=tf.float32)\n",
    "y = tf.placeholder(name='input1',shape=[], dtype=tf.float32)\n",
    "m = x + y\n",
    "n = x - y"
   ]
  },
  {
   "cell_type": "code",
   "execution_count": 3,
   "metadata": {},
   "outputs": [
    {
     "name": "stdout",
     "output_type": "stream",
     "text": [
      "/home/allen/myproject/serve_docker/version1/saved_model\n",
      "/home/allen/myproject/serve_docker/version1/saved_model/1\n"
     ]
    }
   ],
   "source": [
    "# 建立一个路径，需要注意的是：\n",
    "# BASE_MODEL 是在运行docker时使用的路径。\n",
    "# export_path 是在保存模型时需要用到路径。\n",
    "# 它们之间的差距就是隔了一层数字1这个目录\n",
    "# 这样做的好处就是当模型不断更新生成2,3,4,5,6等目录的时候\n",
    "# 系统会自动选择数字最高的目录中的模型，换句话说，就是选择最好的模型\n",
    "current_path = os.path.abspath('.')\n",
    "os.mkdir('saved_model')\n",
    "BASE_MODEL = os.path.join(current_path, 'saved_model')\n",
    "export_path = os.path.join(BASE_MODEL, '1')\n",
    "print(BASE_MODEL)\n",
    "print(export_path)"
   ]
  },
  {
   "cell_type": "code",
   "execution_count": 4,
   "metadata": {},
   "outputs": [
    {
     "name": "stdout",
     "output_type": "stream",
     "text": [
      "WARNING:tensorflow:From /home/allen/tf/lib/python3.5/site-packages/tensorflow/python/saved_model/simple_save.py:85: calling SavedModelBuilder.add_meta_graph_and_variables (from tensorflow.python.saved_model.builder_impl) with legacy_init_op is deprecated and will be removed in a future version.\n",
      "Instructions for updating:\n",
      "Pass your op to the equivalent parameter main_op instead.\n",
      "INFO:tensorflow:Assets added to graph.\n",
      "INFO:tensorflow:No assets to write.\n",
      "INFO:tensorflow:SavedModel written to: /home/allen/myproject/serve_docker/version1/saved_model/1/saved_model.pb\n"
     ]
    }
   ],
   "source": [
    "# 关于simple_save()这个函数前两个参数是很好理解的，说一下inputs和outputs两个\n",
    "# 参数，首先它们是字典类型Key-Value，可以存储多个值.\n",
    "# Value就是tensorflow的tensor。重点关注下key，后面就会发现key的作用了\n",
    "with tf.Session() as sess:\n",
    "    tf.saved_model.simple_save(\n",
    "    sess,\n",
    "    export_path,\n",
    "    inputs={'input1': x,\n",
    "            'input2': y},\n",
    "    outputs={'outputbb': m,\n",
    "             'outputaa': n},\n",
    "    ) "
   ]
  },
  {
   "cell_type": "code",
   "execution_count": null,
   "metadata": {},
   "outputs": [],
   "source": [
    "'''\n",
    "在命令行中运行模型\n",
    "docker run -p 8501:8501 \\\n",
    "  --mount type=bind,source=/home/allen/myproject/serve_docker/version1/saved_model,target=/models/my_model \\\n",
    "  -e MODEL_NAME=my_model -t tensorflow/serving\n",
    "'''"
   ]
  },
  {
   "cell_type": "code",
   "execution_count": 5,
   "metadata": {},
   "outputs": [
    {
     "name": "stdout",
     "output_type": "stream",
     "text": [
      "{\r\n",
      " \"model_version_status\": [\r\n",
      "  {\r\n",
      "   \"version\": \"1\",\r\n",
      "   \"state\": \"AVAILABLE\",\r\n",
      "   \"status\": {\r\n",
      "    \"error_code\": \"OK\",\r\n",
      "    \"error_message\": \"\"\r\n",
      "   }\r\n",
      "  }\r\n",
      " ]\r\n",
      "}\r\n"
     ]
    }
   ],
   "source": [
    "# 测试一下\n",
    "! GET http://localhost:8501/v1/models/my_model"
   ]
  },
  {
   "cell_type": "code",
   "execution_count": null,
   "metadata": {},
   "outputs": [],
   "source": [
    "# data = json.dumps({\"signature_name\": \"serving_default\", \"instances\": [3.0, 5.0]})"
   ]
  },
  {
   "cell_type": "code",
   "execution_count": 6,
   "metadata": {},
   "outputs": [],
   "source": [
    "# 模型是输入（input1，input2）要和上诉保存时的key要对应哦。\n",
    "# 而且输入的数据不能是标量，要是列表的形式，不信可以尝试一下哦\n",
    "data = json.dumps({\"signature_name\": \"serving_default\", \"inputs\": {'input1':[22, 10],\n",
    "                                                                  'input2':[10, 11]}})\n",
    "\n",
    "\n",
    "# 下面的这一行说明了两点\n",
    "# （1）inputs 可以用 instances 替换，没啥大问题，只不过\n",
    "# inputs对应的输出是outputs\n",
    "# instances对应的输出是prediction\n",
    "# 还有点就是inputs只有一个的时候，这个key是可以省略的\n",
    "# (2）data = json.dumps({\"signature_name\": \"serving_default\", \"instances\": [3.0, 5.0]})"
   ]
  },
  {
   "cell_type": "code",
   "execution_count": 7,
   "metadata": {},
   "outputs": [],
   "source": [
    "responese = requests.post('http://localhost:8501/v1/models/my_model:predict', data=data)"
   ]
  },
  {
   "cell_type": "code",
   "execution_count": 8,
   "metadata": {},
   "outputs": [
    {
     "data": {
      "text/plain": [
       "<Response [200]>"
      ]
     },
     "execution_count": 8,
     "metadata": {},
     "output_type": "execute_result"
    }
   ],
   "source": [
    "responese"
   ]
  },
  {
   "cell_type": "code",
   "execution_count": 9,
   "metadata": {},
   "outputs": [],
   "source": [
    "response = json.loads(responese.text)"
   ]
  },
  {
   "cell_type": "code",
   "execution_count": 10,
   "metadata": {},
   "outputs": [
    {
     "data": {
      "text/plain": [
       "{'outputs': {'outputaa': [12.0, -1.0], 'outputbb': [32.0, 21.0]}}"
      ]
     },
     "execution_count": 10,
     "metadata": {},
     "output_type": "execute_result"
    }
   ],
   "source": [
    "# 要发现这个'outputaa'和‘outputbb’是你在保存模型的时候定义的。\n",
    "response"
   ]
  }
 ],
 "metadata": {
  "kernelspec": {
   "display_name": "tf",
   "language": "python",
   "name": "tf"
  },
  "language_info": {
   "codemirror_mode": {
    "name": "ipython",
    "version": 3
   },
   "file_extension": ".py",
   "mimetype": "text/x-python",
   "name": "python",
   "nbconvert_exporter": "python",
   "pygments_lexer": "ipython3",
   "version": "3.5.2"
  }
 },
 "nbformat": 4,
 "nbformat_minor": 2
}
